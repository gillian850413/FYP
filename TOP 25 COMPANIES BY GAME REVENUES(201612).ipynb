{
 "cells": [
  {
   "cell_type": "code",
   "execution_count": 12,
   "metadata": {
    "collapsed": true
   },
   "outputs": [],
   "source": [
    "from urllib.request import urlopen\n",
    "from bs4 import BeautifulSoup\n",
    "import pandas as pd\n",
    "import requests"
   ]
  },
  {
   "cell_type": "code",
   "execution_count": 13,
   "metadata": {
    "collapsed": true
   },
   "outputs": [],
   "source": [
    "url = 'https://newzoo.com/insights/rankings/top-25-companies-game-revenues/'\n",
    "html = urlopen(url)\n",
    "soup = BeautifulSoup(html, \"lxml\")"
   ]
  },
  {
   "cell_type": "code",
   "execution_count": 21,
   "metadata": {},
   "outputs": [
    {
     "data": {
      "text/plain": [
       "['Image', 'Rank', 'Company', 'Q1', 'Q2', 'Q3', 'Q4', 'Full Year', ' Change']"
      ]
     },
     "execution_count": 21,
     "metadata": {},
     "output_type": "execute_result"
    }
   ],
   "source": [
    "column_headers = [th.getText() for th in soup.findAll('th')]\n",
    "column_headers "
   ]
  },
  {
   "cell_type": "code",
   "execution_count": 15,
   "metadata": {
    "collapsed": true
   },
   "outputs": [],
   "source": [
    "data_rows = soup.findAll('tr')[1:]  # skip the first 2 header rows\n",
    "#type(data_rows)  # now we have a list of table rows"
   ]
  },
  {
   "cell_type": "code",
   "execution_count": 16,
   "metadata": {
    "collapsed": true
   },
   "outputs": [],
   "source": [
    "company_data = [[td.getText() for td in data_rows[i].findAll(['td','th'])] for i in range(len(data_rows))]"
   ]
  },
  {
   "cell_type": "code",
   "execution_count": 17,
   "metadata": {
    "collapsed": true
   },
   "outputs": [],
   "source": [
    "new_company_data = []  # create an empty list to hold all the data\n",
    "\n",
    "for i in range(len(data_rows)):  # for each table row\n",
    "    company_row = []  # create an empty list for each pick/company\n",
    "\n",
    "    # for each table data element from each table row\n",
    "    for td in data_rows[i].findAll('td'):        \n",
    "        # get the text content and append to the company_row         \n",
    "        tdtext = []\n",
    "        for i in td.getText():\n",
    "            if i==\"\\n\" or i==\"\\t\":\n",
    "                continue\n",
    "            else:\n",
    "                tdtext.append(i)\n",
    "        \n",
    "        tdtext = \"\".join(tdtext)    \n",
    "\n",
    "        company_row.append(tdtext)        \n",
    "        \n",
    "    # then append each pick/company to the company_data matrix\n",
    "    new_company_data.append(company_row)\n"
   ]
  },
  {
   "cell_type": "code",
   "execution_count": 31,
   "metadata": {},
   "outputs": [
    {
     "name": "stdout",
     "output_type": "stream",
     "text": [
      "[['', '1', 'Tencent ', '2460', '2466', '2616', '2659', '10201', '17%'], ['', '2', 'Sony*', '1796', '1637', '1695', '2709', '7837', '33%'], ['', '3', 'Activision Blizzard', '1455', '1570', '1568', '2014', '6607', '42%'], ['', '4', 'Microsoft*', '1593', '1427', '1363', '2094', '6477', '9%'], ['', '5', 'Apple*', '1316', '1402', '1494', '1652', '5864', '32%'], ['', '6', 'EA', '1308', '1271', '898', '1149', '4626', '8%'], ['', '7', 'NetEase', '933', '969', '985', '1290', '4177', '50%'], ['', '8', 'Google*', '837', '930', '985', '1313', '4065', '37%'], ['', '9', 'Bandai Namco', '465', '552', '469', '506', '1991', '19%'], ['', '10', 'Nintendo', '377', '312', '287', '856', '1831', '6%'], ['', '11', 'Square Enix ', '417', '321', '348', '580', '1666', '37%'], ['', '12', 'Warner Bros', '450', '368', '367', '421', '1606', '27%'], ['', '13', 'Ubisoft ', '697', '155', '158', '591', '1602', '57%'], ['', '14', 'TakeTwo Interactive', '378', '312', '420', '476', '1586', '19%'], ['', '15', 'Nexon', '491', '326', '378', '369', '1564', '1%'], ['', '16', 'Mixi', '353', '282', '227', '335', '1197', '5%'], ['', '17', 'Konami', '336', '215', '169', '246', '965', '5%'], ['', '18', 'GungHo Entertainment', '271', '254', '222', '214', '960', '25%'], ['', '19', 'Disney', '230', '218', '226', '234', '908', '23%'], ['', '20', 'DeNA', '227', '223', '207', '202', '859', '8%'], ['', '21', 'Sega', '239', '194', '199', '225', '857', '9%'], ['', '22', 'NCSoft', '200', '200', '181', '237', '817', '15%'], ['', '23', 'Facebook', '181', '197', '195', '180', '753', '11%'], ['', '24', 'Zynga', '187', '182', '182', '191', '741', '3%'], ['', '25', 'COLOPL', '189', '162', '172', '123', '647', '2%']]\n"
     ]
    }
   ],
   "source": [
    "df = pd.DataFrame(new_company_data, columns=column_headers)\n",
    "#print(column_headers)\n",
    "#df.to_csv(\"Top 25 companies game revenue.csv\", encoding='utf-8')\n",
    "#df.head(25)\n",
    "type(new_company_data)\n",
    "print(new_company_data)"
   ]
  },
  {
   "cell_type": "code",
   "execution_count": 19,
   "metadata": {
    "collapsed": true
   },
   "outputs": [],
   "source": [
    "import matplotlib.pyplot as plt\n",
    "import seaborn as sns\n",
    "%matplotlib inline"
   ]
  },
  {
   "cell_type": "code",
   "execution_count": 29,
   "metadata": {},
   "outputs": [
    {
     "data": {
      "image/png": "[encoded data removed]",
      "text/plain": [
       "<matplotlib.figure.Figure at 0x27d531825f8>"
      ]
     },
     "metadata": {},
     "output_type": "display_data"
    }
   ],
   "source": [
    "platGenre = pd.crosstab(df.Company,df.Q1)\n",
    "platGenreTotal = platGenre.sum(axis=1).sort_values(ascending = False)\n",
    "plt.figure(figsize=(8,6))\n",
    "sns.barplot(y = platGenreTotal.index, x = platGenreTotal.values, orient='h')\n",
    "plt.ylabel = \"TOP 25 COMPANIES BY GAME REVENUES(2016/12)\"\n",
    "plt.xlabel = \"Full year revenue\"\n",
    "plt.show()"
   ]
  },
  {
   "cell_type": "code",
   "execution_count": null,
   "metadata": {
    "collapsed": true
   },
   "outputs": [],
   "source": []
  }
 ],
 "metadata": {
  "kernelspec": {
   "display_name": "Python 3",
   "language": "python",
   "name": "python3"
  },
  "language_info": {
   "codemirror_mode": {
    "name": "ipython",
    "version": 3
   },
   "file_extension": ".py",
   "mimetype": "text/x-python",
   "name": "python",
   "nbconvert_exporter": "python",
   "pygments_lexer": "ipython3",
   "version": "3.6.1"
  }
 },
 "nbformat": 4,
 "nbformat_minor": 2
}
