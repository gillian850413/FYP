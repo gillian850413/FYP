{
 "cells": [
  {
   "cell_type": "code",
   "execution_count": 1,
   "metadata": {
    "collapsed": true
   },
   "outputs": [],
   "source": [
    "from urllib.request import urlopen\n",
    "from bs4 import BeautifulSoup\n",
    "import pandas as pd\n",
    "import requests\n",
    "import itertools"
   ]
  },
  {
   "cell_type": "code",
   "execution_count": 2,
   "metadata": {
    "collapsed": true
   },
   "outputs": [],
   "source": [
    "def split(str):\n",
    "    new_str = []\n",
    "    str = str.split(' (')\n",
    "    \n",
    "    if(len(str) == 2):\n",
    "        new_str.append(str[0])\n",
    "        str2 = str[1].split(')')\n",
    "        new_str.append(str2[0])\n",
    "        str3 = str2[1].split(', ')\n",
    "        if(len(str3) != 2):\n",
    "            new_str.append(str3[0]+', '+str3[1])\n",
    "            new_str.append(str3[2])\n",
    "        else:\n",
    "            for i in str3:\n",
    "                new_str.append(i)\n",
    "    else:\n",
    "        new_str.append(str[0]+' ('+str[1])\n",
    "        str2 = str[len(str)-1].split(')')\n",
    "        new_str.append(str2[0])\n",
    "        \n",
    "        str3 = str2[1].split(', ')\n",
    "        for i in str3:\n",
    "            new_str.append(i)\n",
    "    \n",
    "    return(new_str)"
   ]
  },
  {
   "cell_type": "code",
   "execution_count": 3,
   "metadata": {
    "collapsed": true
   },
   "outputs": [],
   "source": [
    "def combine_list(list1, list2):\n",
    "    list1 = list1 + list2\n",
    "    del list1[-1]\n",
    "    idx = 1\n",
    "    len_list2 = len(list2)\n",
    "    for i in range(len_list2):\n",
    "        list1[len(list1)-i-idx] = list1[len(list1)-len(list2)-i]\n",
    "    for i in range(len_list2):\n",
    "        list1[idx+i] = list2[i]\n",
    "    \n",
    "    return (list1)   "
   ]
  },
  {
   "cell_type": "code",
   "execution_count": 4,
   "metadata": {
    "collapsed": true,
    "scrolled": true
   },
   "outputs": [],
   "source": [
    "def get_data(url):\n",
    "    html = urlopen(url)\n",
    "    soup = BeautifulSoup(html, \"lxml\")\n",
    "\n",
    "    #set it yourself\n",
    "    column_headers = ['Rank', 'Game', 'Platform', 'Publisher', 'Genre', 'Week', 'Yearly', 'Total']\n",
    "    \n",
    "    start_row = 4\n",
    "    end_row = start_row + 100 * 2\n",
    "    data_rows = soup.findAll('tr')[start_row:end_row]\n",
    "    #print(data_rows)\n",
    "    company_data = [[td.getText() for td in data_rows[i].findAll('td')] for i in range(len(data_rows))]\n",
    "    new_company_data = [] \n",
    "    for i in range(len(data_rows)):\n",
    "        company_row = [] \n",
    "        for td in data_rows[i].findAll('td'):         \n",
    "            tdtext = []\n",
    "            for i in td.getText().split('\\n'):\n",
    "                if i==\"\\n\" or i==\"\\t\" or i=='':\n",
    "                    continue\n",
    "                else:\n",
    "                    tdtext.append(i)\n",
    "            for j in tdtext:\n",
    "                company_row.append(j)\n",
    "\n",
    "        if(len(company_row) > 1):\n",
    "            del company_row[2]        \n",
    "            new_company_data.append(company_row)\n",
    "            #print(new_company_data)\n",
    "    \n",
    "    final_company_data = []\n",
    "    for change in new_company_data: \n",
    "        if(len(change) != 5):\n",
    "            continue\n",
    "        else:\n",
    "            split_list = split(change[1])\n",
    "            final_company_data.append(combine_list(change, split_list))\n",
    "    \n",
    "    \n",
    "    df = pd.DataFrame(final_company_data, columns=column_headers)\n",
    "    return (df)\n"
   ]
  },
  {
   "cell_type": "code",
   "execution_count": 5,
   "metadata": {
    "collapsed": true
   },
   "outputs": [],
   "source": [
    "#output excel\n",
    "writer = pd.ExcelWriter('Europe Yearly Chart.xlsx')\n",
    "for i in range(12, 0, -1):\n",
    "    year = i + 5\n",
    "    if(year < 10):\n",
    "        yr = '0'+str(year)\n",
    "    else:\n",
    "        yr = str(year)\n",
    "        \n",
    "    url = 'http://www.vgchartz.com/yearly/20'+yr+'/Europe/'\n",
    "    df = get_data(url)\n",
    "    df.to_excel(writer,'20'+yr)\n",
    "writer.save()    "
   ]
  }
 ],
 "metadata": {
  "kernelspec": {
   "display_name": "Python 3",
   "language": "python",
   "name": "python3"
  },
  "language_info": {
   "codemirror_mode": {
    "name": "ipython",
    "version": 3
   },
   "file_extension": ".py",
   "mimetype": "text/x-python",
   "name": "python",
   "nbconvert_exporter": "python",
   "pygments_lexer": "ipython3",
   "version": "3.6.1"
  }
 },
 "nbformat": 4,
 "nbformat_minor": 2
}
