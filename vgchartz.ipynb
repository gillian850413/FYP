{
 "cells": [
  {
   "cell_type": "code",
   "execution_count": 281,
   "metadata": {
    "collapsed": true
   },
   "outputs": [],
   "source": [
    "from urllib.request import urlopen\n",
    "from bs4 import BeautifulSoup\n",
    "import pandas as pd\n",
    "import requests\n",
    "from itertools import chain"
   ]
  },
  {
   "cell_type": "code",
   "execution_count": 282,
   "metadata": {
    "collapsed": true
   },
   "outputs": [],
   "source": [
    "def split_list_idx(olist): #old list, first list, second list\n",
    "    idx = []\n",
    "    for i in range(len(olist)):\n",
    "        length = len(olist[i])\n",
    "        if(length == 0):\n",
    "            idx.append(i)\n",
    "            \n",
    "    for i in range(len(idx)):\n",
    "        if(i != (len(idx)-1)):\n",
    "            if(idx[i]+1 == idx[i+1]):\n",
    "                continue\n",
    "            else:\n",
    "                first_row = idx[i]+1\n",
    "                last_row = idx[i+1]\n",
    "                idx[i] = first_row\n",
    "                \n",
    "    del idx[0:len(idx)-4]\n",
    "    return (idx)\n",
    "    "
   ]
  },
  {
   "cell_type": "code",
   "execution_count": 283,
   "metadata": {},
   "outputs": [],
   "source": [
    "def get_hw_sw_data(url): #, row1, row2\n",
    "    html = urlopen(url)\n",
    "    soup = BeautifulSoup(html, \"lxml\")\n",
    "    \n",
    "    column_headers = ['Platform', 'Year', 'Change', 'Total']\n",
    "\n",
    "    data_rows = soup.findAll('tr')#[row1:row2] # skip the first 2 header rows  #406 413\n",
    "\n",
    "    company_data = [[td.getText() for td in data_rows[i].findAll('td')] for i in range(len(data_rows))]\n",
    "\n",
    "    new_company_data = []  # create an empty list to hold all the data\n",
    "\n",
    "    for i in range(len(data_rows)):  # for each table row\n",
    "        company_row = []  # create an empty list for each pick/company\n",
    "\n",
    "        # for each table data element from each table row\n",
    "        for td in data_rows[i].findAll('td'):        \n",
    "            # get the text content and append to the company_row         \n",
    "            tdtext = []\n",
    "            for i in td.getText():\n",
    "                if i==\"\\n\" or i==\"\\t\":\n",
    "                    continue\n",
    "                else:\n",
    "                    tdtext.append(i)\n",
    "           \n",
    "            tdtext = \"\".join(tdtext)    \n",
    "            company_row.append(tdtext)        \n",
    "        \n",
    "        \n",
    "        if(len(company_row) == 0 or len(company_row) == 4):\n",
    "            new_company_data.append(company_row)\n",
    "        else:\n",
    "            continue    \n",
    "    \n",
    "    idx = split_list_idx(new_company_data)\n",
    "    hardware = new_company_data[idx[len(idx)-4]:idx[len(idx)-3]]\n",
    "    software = new_company_data[idx[len(idx)-2]:idx[len(idx)-1]]\n",
    "    \n",
    "    return(column_headers, hardware, software)"
   ]
  },
  {
   "cell_type": "code",
   "execution_count": 284,
   "metadata": {
    "collapsed": true
   },
   "outputs": [],
   "source": [
    "def output(url):\n",
    "    data = get_hw_sw_data(url)\n",
    "    colheader = data[0]\n",
    "    hw = data[1]\n",
    "    sw = data[2]\n",
    "    df = pd.DataFrame(sw, columns=colheader)\n",
    "    return(df)"
   ]
  },
  {
   "cell_type": "code",
   "execution_count": 285,
   "metadata": {},
   "outputs": [],
   "source": [
    "#output excel\n",
    "writer = pd.ExcelWriter('Global Software Sales by Platform.xlsx')\n",
    "for i in range(13, 0, -1):\n",
    "    year = i + 4\n",
    "    if(year < 10):\n",
    "        yr = '0'+str(year)\n",
    "    else:\n",
    "        yr = str(year)\n",
    "        \n",
    "    url = 'http://www.vgchartz.com/yearly/20'+yr+'/Global/'\n",
    "    df = output(url)\n",
    "    df.to_excel(writer,'20'+yr)\n",
    "writer.save()       "
   ]
  }
 ],
 "metadata": {
  "kernelspec": {
   "display_name": "Python 3",
   "language": "python",
   "name": "python3"
  },
  "language_info": {
   "codemirror_mode": {
    "name": "ipython",
    "version": 3
   },
   "file_extension": ".py",
   "mimetype": "text/x-python",
   "name": "python",
   "nbconvert_exporter": "python",
   "pygments_lexer": "ipython3",
   "version": "3.6.1"
  }
 },
 "nbformat": 4,
 "nbformat_minor": 2
}
